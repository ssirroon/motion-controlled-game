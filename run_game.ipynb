{
 "cells": [
  {
   "cell_type": "code",
   "execution_count": 1,
   "metadata": {},
   "outputs": [
    {
     "name": "stdout",
     "output_type": "stream",
     "text": [
      "pygame 2.1.2 (SDL 2.0.18, Python 3.10.0)\n",
      "Hello from the pygame community. https://www.pygame.org/contribute.html\n"
     ]
    }
   ],
   "source": [
    "import pygame\n",
    "import model\n",
    "import controller as mediapipe_test\n",
    "import time\n",
    "import view as sprite_class_shamama\n",
    "import sound\n",
    "import random"
   ]
  },
  {
   "cell_type": "code",
   "execution_count": 2,
   "metadata": {},
   "outputs": [],
   "source": [
    "pygame.init()\n",
    "size = width, height = 500, 500\n",
    "bg_path = 'Images/pokemon_b.png'\n",
    "enemy_path = 'Images/stronk_doge.png'\n",
    "hp_full_path = 'Images/health_full.png'\n",
    "game_sound = \"Sound/Pokemon_Ruby.mp3\"\n",
    "vector_cheems = [0, 0]\n",
    "vector_enemy = [0, 0]\n",
    "scale_enemy = 10\n",
    "enemy_name = \"Doge\""
   ]
  },
  {
   "cell_type": "code",
   "execution_count": 3,
   "metadata": {},
   "outputs": [
    {
     "name": "stdout",
     "output_type": "stream",
     "text": [
      "magic\n",
      "['enemy'] magic\n",
      "Cheems has 20 hp.\n",
      "Enemy has 10 hp.\n",
      "End of turn.\n"
     ]
    },
    {
     "ename": "error",
     "evalue": "mixer not initialized",
     "output_type": "error",
     "traceback": [
      "\u001b[1;31m---------------------------------------------------------------------------\u001b[0m",
      "\u001b[1;31merror\u001b[0m                                     Traceback (most recent call last)",
      "\u001b[1;32mc:\\Users\\ssirroon\\Documents\\GitHub\\cheems-game\\run_game.ipynb Cell 3'\u001b[0m in \u001b[0;36m<cell line: 15>\u001b[1;34m()\u001b[0m\n\u001b[0;32m     <a href='vscode-notebook-cell:/c%3A/Users/ssirroon/Documents/GitHub/cheems-game/run_game.ipynb#ch0000002?line=77'>78</a>\u001b[0m         \u001b[39mif\u001b[39;00m event\u001b[39m.\u001b[39mtype \u001b[39m==\u001b[39m pygame\u001b[39m.\u001b[39mQUIT:  \u001b[39m# quit the game, stop the loop\u001b[39;00m\n\u001b[0;32m     <a href='vscode-notebook-cell:/c%3A/Users/ssirroon/Documents/GitHub/cheems-game/run_game.ipynb#ch0000002?line=78'>79</a>\u001b[0m             pygame\u001b[39m.\u001b[39mquit()\n\u001b[1;32m---> <a href='vscode-notebook-cell:/c%3A/Users/ssirroon/Documents/GitHub/cheems-game/run_game.ipynb#ch0000002?line=79'>80</a>\u001b[0m             pygame\u001b[39m.\u001b[39;49mmixer\u001b[39m.\u001b[39;49mmusic\u001b[39m.\u001b[39;49mstop()\n\u001b[0;32m     <a href='vscode-notebook-cell:/c%3A/Users/ssirroon/Documents/GitHub/cheems-game/run_game.ipynb#ch0000002?line=80'>81</a>\u001b[0m             quit()\n\u001b[0;32m     <a href='vscode-notebook-cell:/c%3A/Users/ssirroon/Documents/GitHub/cheems-game/run_game.ipynb#ch0000002?line=81'>82</a>\u001b[0m swipe_detection_1\u001b[39m.\u001b[39mquit()\n",
      "\u001b[1;31merror\u001b[0m: mixer not initialized"
     ]
    },
    {
     "ename": "",
     "evalue": "",
     "output_type": "error",
     "traceback": [
      "\u001b[1;31mThe Kernel crashed while executing code in the the current cell or a previous cell. Please review the code in the cell(s) to identify a possible cause of the failure. Click <a href='https://aka.ms/vscodeJupyterKernelCrash'>here</a> for more info. View Jupyter <a href='command:jupyter.viewOutput'>log</a> for further details."
     ]
    }
   ],
   "source": [
    "game_1 = model.model(enemy_name)\n",
    "\n",
    "cheems_hp_path = enemy_hp_path = hp_full_path\n",
    "\n",
    "vector = [0, 0]\n",
    "\n",
    "background = sprite_class_shamama.Background(bg_path, size)\n",
    "background.start_screen()\n",
    "\n",
    "sprite_class_shamama.main(background, enemy_path, [0, 0], [0, 0], scale_enemy, \\\n",
    "    \"\", \"\", hp_full_path, hp_full_path)\n",
    "sound.init_music(game_sound) # initializing in-game music\n",
    "sound.loop_music() # start in-game music\n",
    "\n",
    "while 1:\n",
    "    swipe_detection_1 = mediapipe_test.SwipeDetection()\n",
    "    time.sleep(1)\n",
    "    enemy_move = game_1.enemy_move()\n",
    "    vector_enemy = swipe_detection_1.move_to_pos(enemy_move)\n",
    "    \n",
    "    sprite_class_shamama.main(background, enemy_path, [0, 0], vector_enemy, \\\n",
    "        scale_enemy, \"\", \"\", cheems_hp_path, enemy_hp_path)\n",
    "\n",
    "\n",
    "    cheems_move = swipe_detection_1.determine_move()\n",
    "    print(cheems_move)\n",
    "\n",
    "    if cheems_move == \"end\":\n",
    "        print(\"quitting the game\")\n",
    "        swipe_detection_1.quit()\n",
    "        pygame.display.quit()\n",
    "        pygame.mixer.music.stop()\n",
    "        break\n",
    "    vector_cheems = swipe_detection_1.move_to_pos(cheems_move)\n",
    "\n",
    "    fight = game_1.fight_result(cheems_move, enemy_move)\n",
    "    print(fight[0], fight[1])\n",
    "    result = game_1.deal_damage(fight[0], fight[1])\n",
    "\n",
    "    health_list = game_1.current_health()\n",
    "    cheems_health = int(health_list[0])\n",
    "    cheems_hp_path = sprite_class_shamama.hp_to_path(cheems_health)\n",
    "    hp_vector = [0, 0]\n",
    "\n",
    "    enemy_health = health_list[1]\n",
    "    enemy_hp_path = sprite_class_shamama.hp_to_path(enemy_health)\n",
    "\n",
    "    fight_text_cheems = sprite_class_shamama.print_to_disp(\"Cheems\", \\\n",
    "        cheems_move)\n",
    "    fight_text_enemy = sprite_class_shamama.print_to_disp(enemy_name, \\\n",
    "        enemy_move)\n",
    "    \n",
    "    sprite_class_shamama.main(background, enemy_path, vector_cheems, [0, 0], \\\n",
    "        scale_enemy, fight_text_cheems, fight_text_enemy, cheems_hp_path, \\\n",
    "            enemy_hp_path)\n",
    "    if result == \"lose\":\n",
    "        if random.randrange(1, 10) == 3:\n",
    "            sound.init_music(\"Sound/big_loss.mp3\")\n",
    "            sound.loop_music()\n",
    "            time.sleep(2)\n",
    "        else:\n",
    "            sound.init_music(\"Sound/loss.mp3\")\n",
    "            sound.loop_music()\n",
    "            time.sleep(4)\n",
    "        swipe_detection_1.quit()\n",
    "        pygame.display.quit()\n",
    "        pygame.mixer.music.stop()\n",
    "        break\n",
    "    if result == \"win\":\n",
    "        sound.init_music(\"Sound/win.mp3\")\n",
    "        sound.loop_music()\n",
    "        time.sleep(3)\n",
    "        swipe_detection_1.quit()\n",
    "        pygame.display.quit()\n",
    "        pygame.mixer.music.stop()\n",
    "        break\n",
    "    for event in pygame.event.get():  # look for events\n",
    "        if event.type == pygame.QUIT:  # quit the game, stop the loop\n",
    "            pygame.quit()\n",
    "            pygame.mixer.music.stop()\n",
    "            quit()\n",
    "swipe_detection_1.quit()\n",
    "    "
   ]
  }
 ],
 "metadata": {
  "interpreter": {
   "hash": "369f2c481f4da34e4445cda3fffd2e751bd1c4d706f27375911949ba6bb62e1c"
  },
  "kernelspec": {
   "display_name": "Python 3.10.0 64-bit",
   "language": "python",
   "name": "python3"
  },
  "language_info": {
   "codemirror_mode": {
    "name": "ipython",
    "version": 3
   },
   "file_extension": ".py",
   "mimetype": "text/x-python",
   "name": "python",
   "nbconvert_exporter": "python",
   "pygments_lexer": "ipython3",
   "version": "3.10.0"
  },
  "orig_nbformat": 4
 },
 "nbformat": 4,
 "nbformat_minor": 2
}
